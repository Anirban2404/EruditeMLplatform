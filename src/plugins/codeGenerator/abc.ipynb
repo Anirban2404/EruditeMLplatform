{
"cells": [
{
"cell_type": "markdown",
"metadata": {},
"source": [
"# The Generated WebGME code"
]
},{
"cell_type": "code",
"execution_count": 1,
"metadata": {
"collapsed": true
},
"outputs": [],
"source": ["import os\nimport pandas as pd\n\ntitanic = pd.read_csv(os.path.join('datasets', 'titanic3.csv'))\nprint(titanic.columns)"]
    }
,{
"cell_type": "code",
"execution_count": 2,
"metadata": {
"collapsed": true
},
"outputs": [],
"source": ["pd.get_dummies(features).head()\nfeatures_dummies = pd.get_dummies(features, columns=['pclass', 'sex', 'embarked'])\nfeatures_dummies.head(n=16)\ndata = features_dummies.values\nimport numpy as np\nnp.isnan(data).any()"]
    }
,{
"cell_type": "code",
"execution_count": 3,
"metadata": {
"collapsed": true
},
"outputs": [],
"source": ["titanic.head()\nlabels = titanic.survived.values\nfeatures = titanic[['pclass', 'sex', 'age', 'sibsp', 'parch', 'fare', 'embarked']]"]
    }
,{
"cell_type": "code",
"execution_count": 4,
"metadata": {
"collapsed": true
},
"outputs": [],
"source": ["from sklearn.model_selection import train_test_split\nfrom sklearn.preprocessing import Imputer\n\n\ntrain_data, test_data, train_labels, test_labels = train_test_split(data, labels, random_state=0)\n\nimp = Imputer()\nimp.fit(train_data)\ntrain_data_finite = imp.transform(train_data)\ntest_data_finite = imp.transform(test_data)\nfrom sklearn.dummy import DummyClassifier\n\nclf = DummyClassifier('most_frequent')\nclf.fit(train_data_finite, train_labels)\nprint(\"Prediction accuracy: %f\" % clf.score(test_data_finite, test_labels))"]
    }
],
"metadata": {
"kernelspec": {
"display_name": "Python 2",
"language": "python",
"name": "python2"
},
"language_info": {
"codemirror_mode": {
"name": "ipython",
"version": 2
},
"file_extension": ".py",
"mimetype": "text/x-python",
"name": "python",
"nbconvert_exporter": "python",
"pygments_lexer": "ipython2",
"version": "2.7.12"
}
},
"nbformat": 4,
"nbformat_minor": 2
}
